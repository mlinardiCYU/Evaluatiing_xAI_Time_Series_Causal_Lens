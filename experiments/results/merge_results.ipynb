{
 "cells": [
  {
   "cell_type": "markdown",
   "id": "645e5cf1",
   "metadata": {},
   "source": [
    "# merge dataset results"
   ]
  },
  {
   "cell_type": "code",
   "execution_count": 1,
   "id": "9a08d78a",
   "metadata": {},
   "outputs": [],
   "source": [
    "import pandas as pd\n",
    "import os"
   ]
  },
  {
   "cell_type": "code",
   "execution_count": 2,
   "id": "e4c95ffe",
   "metadata": {},
   "outputs": [],
   "source": [
    "df_list = []\n",
    "for filename in os.listdir(\"./classif/\"):\n",
    "    df = pd.read_csv(\"./classif/\"+filename)\n",
    "    df_list.append(df)"
   ]
  },
  {
   "cell_type": "code",
   "execution_count": 3,
   "id": "42eabfb5",
   "metadata": {},
   "outputs": [],
   "source": [
    "df = pd.concat(df_list)"
   ]
  },
  {
   "cell_type": "code",
   "execution_count": 4,
   "id": "c1eab8d7",
   "metadata": {},
   "outputs": [],
   "source": [
    "df.to_csv(\"classif.csv\",index=False)"
   ]
  },
  {
   "cell_type": "code",
   "execution_count": 5,
   "id": "d2a13ea0",
   "metadata": {},
   "outputs": [],
   "source": [
    "df_list = []\n",
    "for filename in os.listdir(\"./expl_metrics/\"):\n",
    "    df = pd.read_csv(\"./expl_metrics/\"+filename)\n",
    "    df_list.append(df)\n",
    "df = pd.concat(df_list)\n",
    "df.to_csv(\"expl_metrics.csv\",index=False)"
   ]
  },
  {
   "cell_type": "code",
   "execution_count": 6,
   "id": "64175f89",
   "metadata": {},
   "outputs": [],
   "source": [
    "df_list = []\n",
    "for filename in os.listdir(\"./restricted_classif_pred/\"):\n",
    "    df = pd.read_csv(\"./restricted_classif_pred/\"+filename)\n",
    "    df_list.append(df)\n",
    "df = pd.concat(df_list)\n",
    "df.to_csv(\"restricted_classif_pred.csv\",index=False)"
   ]
  },
  {
   "cell_type": "code",
   "execution_count": 7,
   "id": "6d19d11d",
   "metadata": {},
   "outputs": [],
   "source": [
    "df_list = []\n",
    "for filename in os.listdir(\"./restricted_classif_true/\"):\n",
    "    df = pd.read_csv(\"./restricted_classif_true/\"+filename)\n",
    "    df_list.append(df)\n",
    "df = pd.concat(df_list)\n",
    "df.to_csv(\"restricted_classif_true.csv\",index=False)"
   ]
  },
  {
   "cell_type": "code",
   "execution_count": null,
   "id": "3ce98ac7",
   "metadata": {},
   "outputs": [],
   "source": []
  },
  {
   "cell_type": "code",
   "execution_count": null,
   "id": "7012a5af",
   "metadata": {},
   "outputs": [],
   "source": []
  },
  {
   "cell_type": "code",
   "execution_count": null,
   "id": "3fe8e8c7",
   "metadata": {},
   "outputs": [],
   "source": []
  }
 ],
 "metadata": {
  "kernelspec": {
   "display_name": "Python 3",
   "language": "python",
   "name": "python3"
  },
  "language_info": {
   "codemirror_mode": {
    "name": "ipython",
    "version": 3
   },
   "file_extension": ".py",
   "mimetype": "text/x-python",
   "name": "python",
   "nbconvert_exporter": "python",
   "pygments_lexer": "ipython3",
   "version": "3.8.10"
  }
 },
 "nbformat": 4,
 "nbformat_minor": 5
}
